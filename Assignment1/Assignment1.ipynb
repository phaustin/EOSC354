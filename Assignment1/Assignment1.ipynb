{
 "cells": [
  {
   "cell_type": "markdown",
   "id": "1725db3d",
   "metadata": {},
   "source": [
    "<center> <h2>The University of British Columbia</h2> </center>\n",
    "<center> <h2>Earth and Ocean Sciences 354</h2> </center>\n",
    "<center> <h3>Geophysical Time Series Analysis</h3> </center>\n",
    "<center> <h3>Problem Set # 1</h3> </center>"
   ]
  },
  {
   "cell_type": "markdown",
   "id": "bb03e619",
   "metadata": {},
   "source": [
    "*Due: September 14, 2020*"
   ]
  },
  {
   "cell_type": "markdown",
   "id": "e4b1d60d",
   "metadata": {},
   "source": [
    "Learning Goals:\n",
    "* Learn digital recording terminology (dynamic range, sampling frequency, gain, etc.)\n",
    "* Do calculations with dynamic range"
   ]
  },
  {
   "cell_type": "markdown",
   "id": "b2736a95",
   "metadata": {},
   "source": [
    "Read Chapter 1 of TSAITG and answer the following questions concerning the dynamic range of geophysical instrumentation."
   ]
  },
  {
   "cell_type": "markdown",
   "id": "55c7480f",
   "metadata": {},
   "source": [
    "1. A geophone (cheap seismometer used for hydrocarbon exploration) is quoted at 3.28 V/(in/s). What is the ground motion in m/s corresponding to an output of 1 mV?"
   ]
  },
  {
   "cell_type": "markdown",
   "id": "41b17787",
   "metadata": {},
   "source": [
    "2. A simple seismic acquisition system uses 14 bits to record the signal digitally as an integer. Calculate the dynamic range of this instrument. Express your answer in decibels (dB) using the formula\n",
    "$$\n",
    "\\mathrm{dB} = 20\\mathrm{log}_{10}(\\text{dynamic range})\n",
    "$$"
   ]
  },
  {
   "cell_type": "markdown",
   "id": "e8c72f4d",
   "metadata": {},
   "source": [
    "3. The geophone in question 1 outputs linearly over the range 1$\\mu$V-0.1 V. What is its dynamic range in dB?"
   ]
  },
  {
   "cell_type": "markdown",
   "id": "9264c1e2",
   "metadata": {},
   "source": [
    "4. You attach the geophone in question 1 to the recorder in question 2 and set the recorder's gain to digital count/$\\mu$V. What is the maximum ground motion that can be recorded?"
   ]
  },
  {
   "cell_type": "code",
   "execution_count": null,
   "id": "f7e87f38",
   "metadata": {},
   "outputs": [],
   "source": []
  }
 ],
 "metadata": {
  "kernelspec": {
   "display_name": "Python 3",
   "language": "python",
   "name": "python3"
  },
  "language_info": {
   "codemirror_mode": {
    "name": "ipython",
    "version": 3
   },
   "file_extension": ".py",
   "mimetype": "text/x-python",
   "name": "python",
   "nbconvert_exporter": "python",
   "pygments_lexer": "ipython3",
   "version": "3.9.1"
  }
 },
 "nbformat": 4,
 "nbformat_minor": 5
}
