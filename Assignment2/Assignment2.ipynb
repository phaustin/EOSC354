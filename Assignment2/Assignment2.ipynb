{
 "cells": [
  {
   "cell_type": "markdown",
   "id": "9ddedf7c",
   "metadata": {},
   "source": [
    "<center> <h2>The University of British Columbia</h2> </center>\n",
    "<center> <h2>Earth and Ocean Sciences 354</h2> </center>\n",
    "<center> <h3>Geophysical Time Series Analysis</h3> </center>\n",
    "<center> <h3>Problem Set # 2</h3> </center>"
   ]
  },
  {
   "cell_type": "markdown",
   "id": "848d2ae4",
   "metadata": {},
   "source": [
    "*Due: September 21, 2020*"
   ]
  },
  {
   "cell_type": "markdown",
   "id": "b8537f45",
   "metadata": {},
   "source": [
    "#### Learning Goals:\n",
    "* Get familiar plotting and performing calculations in Python\n",
    "* Arithmatic with complex numbers\n",
    "---"
   ]
  },
  {
   "cell_type": "markdown",
   "id": "c4b693df",
   "metadata": {},
   "source": [
    "1. Run through (insert tutorial) to get a feeling for how one performs fundamental operations in Python."
   ]
  },
  {
   "cell_type": "markdown",
   "id": "6493105b",
   "metadata": {},
   "source": [
    "2. Generate the following time series by setting `t = np.arange(1024)` and issuing the following commands in Python. Plot each function using the plot command `plt.plot(t, a)` and use the syntax to determine the function that you are actually plotting for c, d, e. You can use the `plt.subplot` command to plot the graphs together. Write each function down in standard mathematical format (e.g. ${e}^{-t}\\textrm{cos}2{\\pi}t$) and comment on the nature of each time series.  \n",
    "<html>\n",
    "<ol start=\"1\", style = \"list-style-type:lower-alpha;\">\n",
    "    <li><code>a = np.random.rand(len(t))</code></li>\n",
    "    <li><code>a = np.exp(-np.maximum(np.abs(t),500)/100)*50</code></li>\n",
    "    <li><code>a = 10*np.exp(-((t-500)/50)**2)</code></li>\n",
    "    <li><code>a = np.exp(-np.abs(t-500)/100)*np.cos(2*np.pi*t/100)</code></li>\n",
    "    <li><code>a = np.exp(-np.abs(t)/100)*np.sqrt(np.sin(2*np.pi*t/40)+1)</code></li>\n",
    "</ol>\n",
    "</html> "
   ]
  },
  {
   "cell_type": "markdown",
   "id": "85b3d191",
   "metadata": {},
   "source": [
    "re-ordered:  \n",
    "\n",
    "2. Rewrite c), d), and e) below in standard mathematical format (e.g. ${e}^{-t}\\textrm{cos}2{\\pi}t$). Comment on the nature of each time series.  \n",
    "<html>\n",
    "<ol start=\"1\", style = \"list-style-type:lower-alpha;\">\n",
    "    <li><code>a = np.random.rand(len(t))</code></li>\n",
    "    <li><code>a = np.exp(-np.maximum(np.abs(t),500)/100)*50</code></li>\n",
    "    <li><code>a = 10*np.exp(-((t-500)/50)**2)</code></li>\n",
    "    <li><code>a = np.exp(-np.abs(t-500)/100)*np.cos(2*np.pi*t/100)</code></li>\n",
    "    <li><code>a = np.exp(-np.abs(t)/100)*np.sqrt(np.sin(2*np.pi*t/40)+1)</code></li>\n",
    "</ol>\n",
    "</html>  \n",
    "\n",
    "3. Now plot each time series by setting `t = np.arange(1024)` and using the plot command `plt.plot(t, a)`. If plot a) is not clear, try plotting the first 100 points using `plt.plot(t[:100], a[:100])`.\n"
   ]
  },
  {
   "cell_type": "code",
   "execution_count": 1,
   "id": "38c84e96",
   "metadata": {},
   "outputs": [
    {
     "data": {
      "image/png": "[encoded data removed]",
      "text/plain": [
       "<Figure size 432x288 with 5 Axes>"
      ]
     },
     "metadata": {
      "needs_background": "light"
     },
     "output_type": "display_data"
    }
   ],
   "source": [
    "import matplotlib.pyplot as plt\n",
    "import numpy as np\n",
    "\n",
    "t = np.arange(1024)\n",
    "\n",
    "# plot for a\n",
    "a = np.random.rand(len(t))\n",
    "plt.subplot(2, 3, 1)\n",
    "plt.plot(t, a)\n",
    "\n",
    "# plot for b\n",
    "a = np.exp(-np.maximum(np.abs(t),500)/100)*50\n",
    "plt.subplot(2, 3, 2)\n",
    "plt.plot(t, a)\n",
    "\n",
    "# plot for c\n",
    "a = 10*np.exp(-((t-500)/50)**2)\n",
    "plt.subplot(2, 3, 3)\n",
    "plt.plot(t, a)\n",
    "\n",
    "# plot for d\n",
    "a = np.exp(-np.abs(t-500)/100)*np.cos(2*np.pi*t/100)\n",
    "plt.subplot(2, 3, 4)\n",
    "plt.plot(t, a)\n",
    "\n",
    "# plot for e\n",
    "a = np.exp(-np.abs(t)/100)*np.sqrt(np.sin(2*np.pi*t/40)+1)\n",
    "plt.subplot(2, 3, 5)\n",
    "plt.plot(t, a)\n",
    "\n",
    "plt.show()"
   ]
  },
  {
   "cell_type": "markdown",
   "id": "e1087193",
   "metadata": {},
   "source": [
    "3. Express the following equations in the form $a + ib$ where $a$ and $b$ are real numbers.\n",
    "\n",
    "<html>\n",
    "<div style = \"float: left; width: 33%;\">\n",
    "<ol start=\"1\", style = \"list-style-type:lower-alpha;\">\n",
    "    <li>$(2-5i)+(4+4i)$</li>\n",
    "    <li>$(2-7i)-(3+7i)$</li>\n",
    "    <li>$(2-i)(3+5i)$</li>\n",
    "</ol>\n",
    "</div>\n",
    "<div style = \"float: left; width: 33%;\">\n",
    "<ol start=\"4\", style = \"list-style-type:lower-alpha;\">\n",
    "    <li>$(2+i)^3$</li>\n",
    "    <li>$i^5$</li>\n",
    "    <li>$\\frac{1}{(-i)^8}$</li>\n",
    "</ol>\n",
    "</div>\n",
    "<div style = \"float: right; width: 33%;\">\n",
    "<ol start=\"7\", style = \"list-style-type:lower-alpha;\">\n",
    "    <li>$\\frac{1}{3+4i}$</li>\n",
    "    <li>$\\frac{2-i}{7+5i}$</li>\n",
    "    <li>$\\frac{(1+i)^4}{1-i}$</li>\n",
    "</ol>\n",
    "</div>\n",
    "</html>"
   ]
  },
  {
   "cell_type": "markdown",
   "id": "7a04b983",
   "metadata": {},
   "source": [
    "4. Solve the following equations for $z$ (a complex number, again represented in the form $a+ib$).  \n",
    "<html>\n",
    "<ol start=\"1\", style = \"list-style-type:lower-alpha;\">\n",
    "    <li>$(1+i)z+3=2i$</li>\n",
    "    <li>$\\frac{z+i}{z-i}=\\frac{1}{2}$</li>\n",
    "    <li>$z^2-2iz-5=0$</li>\n",
    "    <li>$z^2-2=3i$</li>\n",
    "    <li>$z^2+2z+5=3i$</li>\n",
    "</ol>\n",
    "</html> "
   ]
  },
  {
   "cell_type": "code",
   "execution_count": null,
   "id": "6b5599fe",
   "metadata": {},
   "outputs": [],
   "source": []
  }
 ],
 "metadata": {
  "kernelspec": {
   "display_name": "Python 3",
   "language": "python",
   "name": "python3"
  },
  "language_info": {
   "codemirror_mode": {
    "name": "ipython",
    "version": 3
   },
   "file_extension": ".py",
   "mimetype": "text/x-python",
   "name": "python",
   "nbconvert_exporter": "python",
   "pygments_lexer": "ipython3",
   "version": "3.9.1"
  }
 },
 "nbformat": 4,
 "nbformat_minor": 5
}
