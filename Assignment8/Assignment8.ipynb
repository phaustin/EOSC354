{
 "cells": [
  {
   "cell_type": "markdown",
   "id": "d231d390",
   "metadata": {},
   "source": [
    "<center> <h2>The University of British Columbia</h2> </center>\n",
    "<center> <h2>Earth and Ocean Sciences 354</h2> </center>\n",
    "<center> <h3>Geophysical Time Series Analysis</h3> </center>\n",
    "<center> <h3>Problem Set # 8</h3> </center>"
   ]
  },
  {
   "cell_type": "markdown",
   "id": "a675d574",
   "metadata": {},
   "source": [
    "*Due: November 9, 2020*"
   ]
  },
  {
   "cell_type": "markdown",
   "id": "52716b02",
   "metadata": {},
   "source": [
    "#### Learning Goals:\n",
    "* Know when and how to use low-pass, high-pass, and bandpass filters\n",
    "* Differentiate between zero phase and minimum phase filters\n",
    "* Calculate cross correlation and autocorrelation\n",
    "---"
   ]
  },
  {
   "cell_type": "markdown",
   "id": "1dde01e4",
   "metadata": {},
   "source": [
    "1. Calculate the cross correlation of the sequences $(1,2,3)$ and $(1,-2,1)$, their autocorrelations, and their correlation coefficients. (Problem 4.6 on page 78 of TSAITG). Please do by hand. You can check your answers in Python, but this is not required. "
   ]
  },
  {
   "cell_type": "markdown",
   "id": "bf4f3100",
   "metadata": {},
   "source": [
    "2. Computer exercise on Butterworth filters using Python. We will be using filters from the `scipy` library. Import this library using `import scipy.signal as sp`. The filter functions we will be using are `sp.lfilter`, `sp.filtfilt`, and `sp.butter`."
   ]
  },
  {
   "cell_type": "markdown",
   "id": "5457772b",
   "metadata": {},
   "source": [
    "<html>\n",
    "<p style=\"margin-left:25px\">\n",
    "The basic structure for using any of the filters will be:\n",
    "</p>\n",
    "</html> \n",
    "\n",
    "```python\n",
    "btype = 'low'\n",
    "b, a = sp.butter(N, fc/fn, btype)\n",
    "filteredSpikeSeries = sp.lfilter(b, a, spikeSeries)\n",
    "```\n",
    "<html>\n",
    "<p style=\"margin-left:25px\">\n",
    "<code>fc</code> is the cutoff frequency <code>fn</code> is the Nyquist frequency. For a bandpass filter, this input will be an array. For a minimum-phase filter, use <code>sp.lfilter</code> and for a zero-phase filter, use <code>sp.filtfilt</code>. <code>btype</code> is either <code>'low'</code>, <code>'high'</code>, or <code>'bandpass'</code> depending on the filter. A lowpass filter uses <code>sp.lfilter</code>, while both highpass and bandpass use <code>sp.filtfilt</code>.\n",
    "</p>\n",
    "</html> "
   ]
  },
  {
   "cell_type": "markdown",
   "id": "cefd04d4",
   "metadata": {},
   "source": [
    "<html>\n",
    "<ol start=\"1\", style = \"list-style-type:lower-alpha;\">\n",
    "    <li>A convolution of any sequence with a delta function returns the original sequence. To see the filter’s <i>impulse response</i> in the time domain, simply filter a spike, then take the FFT to see its amplitude and phase spectra. Generate a spike series using the <code>np.zeros</code> function with a spike at point 512 in a 1024 point long sequence. Choose a sample interval (${\\Delta}t$) of 1 s and a minimum phase lowpass filter with corner frequency at 0.05 Hz. The following code shows how to filter the spike series with a lowpass filter. Examine the filter for different orders (or poles, $N=1,2,4,8$). Compare the onset of the filters. What do you notice? (Include time domain plots of the starting spike series, and the subsequent filtered spikes for the 4 poles specified. Zoom into the region of the plot where there is something interesting happening (i.e. somewhere between 510 and 700 seconds. To save space, try overplotting the 4 different curves on the same figure using a different colour for each curve. Be sure to make your COMMENTS). \n",
    "</li>\n",
    "</ol>\n",
    "</html>\n",
    "\n"
   ]
  },
  {
   "cell_type": "code",
   "execution_count": null,
   "id": "3fae3297",
   "metadata": {},
   "outputs": [],
   "source": [
    "import numpy as np\n",
    "import matplotlib.pyplot as plt\n",
    "import scipy.signal as sp\n",
    "import csv\n",
    "\n",
    "\n",
    "N = 1024\n",
    "t = np.linspace(0, N, N)\n",
    "spikeSeries = N*[0]\n",
    "spikeSeries[511] = 1\n",
    "\n",
    "dt = 1\n",
    "fs = 1/dt\n",
    "fc = 0.05\n",
    "wn = fc/(fs/2)\n",
    "\n",
    "# QUESTION 2 A\n",
    "#varying n\n",
    "varyNPlots = []\n",
    "varyNTransformPlots = []\n",
    "\n",
    "varyNPlots.append(spikeSeries)\n",
    "\n",
    "for n in [1, 2, 4, 8]:\n",
    "    btype = 'low'\n",
    "    b, a = sp.butter(n, wn, btype)\n",
    "    lfiltSpikeSeries = sp.lfilter(b, a, spikeSeries)\n",
    "    varyNPlots.append(lfiltSpikeSeries)\n",
    "    varyNTransformPlots.append(np.fft.fft(lfiltSpikeSeries))\n",
    "\n",
    "for p in varyNPlots:\n",
    "    plt.plot(t, p)\n",
    "plt.xlim(510, 625)\n",
    "plt.xlabel(\"Time (s)\")\n",
    "plt.legend(['original series','N=1','N=2','N=4','N=8'])\n",
    "plt.title(\"Minimum Phase Filter with Varying N\")\n",
    "plt.tight_layout()\n",
    "plt.show()"
   ]
  },
  {
   "cell_type": "markdown",
   "id": "1b1dd084",
   "metadata": {},
   "source": [
    "<html>\n",
    "<ol start=\"2\", style = \"list-style-type:lower-alpha;\">\n",
    "    <li>Take their FFT and comment on how the steepness of the amplitude spectrum varies with the number of poles. (Include an amplitude spectrum plot for each of the above 4 specified poles. Make sure you plot versus frequency, and make sure you plot between $−{\\nu}_N$ to ${\\nu}_N$ , i.e. “fftshifted” Fourier spectra. Consider again plotting different coloured curves over top of each other.) </li>\n",
    "</ol>\n",
    "</html>"
   ]
  },
  {
   "cell_type": "code",
   "execution_count": null,
   "id": "a950233d",
   "metadata": {},
   "outputs": [],
   "source": [
    "# QUESTION 2 B\n",
    "fn = np.fft.fftfreq(N)\n",
    "for p in varyNTransformPlots:\n",
    "    plt.plot(np.fft.fftshift(fn), np.fft.fftshift(np.abs(p)))\n",
    "plt.xlabel(\"Frequency (Hz)\")\n",
    "plt.legend(['N=1','N=2','N=4','N=8'])\n",
    "plt.title(\"Minimum Phase Filter with Varying N\")\n",
    "plt.tight_layout()\n",
    "plt.show()"
   ]
  },
  {
   "cell_type": "markdown",
   "id": "05d9ed7c",
   "metadata": {},
   "source": [
    "<html>\n",
    "<ol start=\"3\", style = \"list-style-type:lower-alpha;\">\n",
    "    <li>For the same starting spike, now vary the cut-off frequency FC (pick 7 values, 3 above and 3 below 0.05, and 0.05) and comment on the difference in both time and frequency domains for the filter with poles $N=8$. (Include plots of each filtered time series and its respective amplitude spectrum. Follow the frequency domain plotting guidelines mentioned previously. Overplot different coloured curves to save space. Be sure to write your COMMENTS on how the time and frequency domains vary with different cut off frequencies).</li>\n",
    "</ol>\n",
    "</html>"
   ]
  },
  {
   "cell_type": "code",
   "execution_count": null,
   "id": "da38c71e",
   "metadata": {},
   "outputs": [],
   "source": [
    "#QUESTION 2 C\n",
    "n = 8\n",
    "\n",
    "#varying n\n",
    "varyFCPlots = []\n",
    "varyFCTransformPlots = []\n",
    "\n",
    "for fc in [0.02, 0.03, 0.04, 0.05, 0.06, 0.07, 0.08]:\n",
    "    btype = 'low'\n",
    "    b, a = sp.butter(n, (fc/(fs/2)), btype)\n",
    "    lfiltSpikeSeries = sp.lfilter(b, a, spikeSeries)\n",
    "    varyFCPlots.append(lfiltSpikeSeries)\n",
    "    varyFCTransformPlots.append(np.fft.fft(lfiltSpikeSeries))\n",
    "\n",
    "for p in varyFCPlots:\n",
    "    plt.plot(t, p)\n",
    "plt.xlim(510, 700)\n",
    "plt.xlabel(\"Time (s)\")\n",
    "plt.legend(['fc=0.02','fc=0.03','fc=0.04','fc=0.05','fc=0.06','fc=0.07','fc=0.08'])\n",
    "plt.title(\"Minimum Phase Filter with Varying fc\")\n",
    "plt.tight_layout()\n",
    "plt.show()\n",
    "\n",
    "for p in varyFCTransformPlots:\n",
    "    plt.plot(np.fft.fftshift(fn), np.fft.fftshift(np.abs(p)))\n",
    "plt.xlabel(\"Frequency (Hz)\")\n",
    "plt.legend(['fc=0.02','fc=0.03','fc=0.04','fc=0.05','fc=0.06','fc=0.07','fc=0.08'])\n",
    "plt.title(\"Minimum Phase Filter with Varying fc\")\n",
    "plt.xlim(-0.2, 0.2)\n",
    "plt.tight_layout()\n",
    "plt.show()"
   ]
  },
  {
   "cell_type": "markdown",
   "id": "b5e462a4",
   "metadata": {},
   "source": [
    "<html>\n",
    "<ol start=\"4\", style = \"list-style-type:lower-alpha;\">\n",
    "    <li>Now specify a zero-phase filter and compare the results in both the time and frequency domains (amplitude spectrum) with those for a minimum phase filter using orders $N=4,8$ and a cutoff frequency FC of 0.05 Hz as before. (Include a time and frequency domain plot for each pole for each filter type. Here you could use colours to specify poles, and a linestyle to indicate minimum versus zero phase. Overplot the curves. Again, follow plotting guidelines above. Be sure to COMMENT; compare the results in time and frequency domain for the variying orders and filter types.)</li>\n",
    "</ol>\n",
    "</html>"
   ]
  },
  {
   "cell_type": "code",
   "execution_count": null,
   "id": "56f11f18",
   "metadata": {},
   "outputs": [],
   "source": [
    "# QUESTION 2 D\n",
    "minPlots = []\n",
    "zeroPlots = []\n",
    "minTransformPlots = []\n",
    "zeroTransformPlots = []\n",
    "\n",
    "for n in [4, 8]:\n",
    "    btype = 'low'\n",
    "    b, a = sp.butter(n, wn, btype)\n",
    "    minPhaseSpikeSeries = sp.lfilter(b, a, spikeSeries)\n",
    "    zeroPhaseSpikeSeries = sp.filtfilt(b, a, spikeSeries)\n",
    "    minPlots.append(minPhaseSpikeSeries)\n",
    "    minTransformPlots.append(np.fft.fft(minPhaseSpikeSeries))\n",
    "    zeroPlots.append(zeroPhaseSpikeSeries)\n",
    "    zeroTransformPlots.append(np.fft.fft(zeroPhaseSpikeSeries))\n",
    "\n",
    "\n",
    "plt.plot(t, minPlots[0], 'r', alpha = 0.5)\n",
    "plt.plot(t, zeroPlots[0], 'b', alpha = 0.5)\n",
    "plt.plot(t, minPlots[1], 'r--', alpha = 0.5)\n",
    "plt.plot(t, zeroPlots[1], 'b--', alpha = 0.5)\n",
    "plt.xlabel(\"Time (s)\")\n",
    "plt.legend(['N=4, min phase','N=4, zero phase','N=8, min phase','N=8, zero phase'])\n",
    "plt.title(\"Minimum vs Zero Phase Filter\")\n",
    "plt.xlim(400, 650)\n",
    "plt.tight_layout()\n",
    "plt.show()\n",
    "\n",
    "plt.plot(np.fft.fftshift(fn), np.fft.fftshift(np.abs(minTransformPlots[0])), 'r', alpha = 0.5)\n",
    "plt.plot(np.fft.fftshift(fn), np.fft.fftshift(np.abs(zeroTransformPlots[0])), 'b', alpha = 0.5)\n",
    "plt.plot(np.fft.fftshift(fn), np.fft.fftshift(np.abs(minTransformPlots[1])), 'r--', alpha = 0.5)\n",
    "plt.plot(np.fft.fftshift(fn), np.fft.fftshift(np.abs(zeroTransformPlots[1])), 'b--', alpha = 0.5)\n",
    "plt.xlabel(\"Frequency (Hz)\")\n",
    "plt.legend(['N=4, min phase', 'N=4, zero phase', 'N=8, min phase', 'N=8, zero phase'])\n",
    "plt.title(\"Minimum vs Zero Phase Filter\")\n",
    "plt.xlim(-0.25, 0.25)\n",
    "plt.tight_layout()\n",
    "plt.show()"
   ]
  },
  {
   "cell_type": "markdown",
   "id": "63a60c2c",
   "metadata": {},
   "source": [
    "<html>\n",
    "<ol start=\"5\", style = \"list-style-type:lower-alpha;\">\n",
    "    <li>Now read in the data in the data file <code>nov1.csv</code> which represents a broadband seismogram recorded in New Zealand. The sampling frequency is 50 Hz. Plot the data and identify the $P$, $S$, and surface waves arrivals by indicating on your plot.</li>\n",
    "</ol>\n",
    "</html> "
   ]
  },
  {
   "cell_type": "code",
   "execution_count": 6,
   "id": "3f9fe148",
   "metadata": {},
   "outputs": [
    {
     "data": {
      "image/png": "[encoded data removed]",
      "text/plain": [
       "<Figure size 432x288 with 1 Axes>"
      ]
     },
     "metadata": {
      "needs_background": "light"
     },
     "output_type": "display_data"
    }
   ],
   "source": [
    "# QUESTION 2 E\n",
    "import csv\n",
    "import numpy as np\n",
    "import matplotlib.pyplot as plt\n",
    "\n",
    "novData = []\n",
    "\n",
    "with open('nov1.csv', newline='') as File:\n",
    "    reader = csv.reader(File)\n",
    "    for row in reader:\n",
    "        novData = np.append(novData, [float(row[0])])\n",
    "\n",
    "N = len(novData)\n",
    "fs = 50\n",
    "dt = 1/fs\n",
    "t = np.linspace(0, dt*N, N)\n",
    "\n",
    "plt.plot(t, novData, alpha=0.3)\n",
    "plt.scatter(t[4800], novData[4800], label='P wave arrival')\n",
    "plt.scatter(t[11188], novData[11188], label='S wave arrival')\n",
    "plt.scatter(t[18600], novData[18600], label='surface wave arrival')\n",
    "plt.xlabel(\"Time (s)\")\n",
    "plt.title(\"Broadband Seismogram recorded in New Zealand\")\n",
    "plt.legend()\n",
    "plt.tight_layout()\n",
    "plt.show()"
   ]
  },
  {
   "cell_type": "markdown",
   "id": "cc1ed2d8",
   "metadata": {},
   "source": [
    "<html>\n",
    "<ol start=\"6\", style = \"list-style-type:lower-alpha;\">\n",
    "    <li>Highpass filter the data with the minimum-phase butterworth filter with order $N = 2$ and cutoff frequency 2.0 Hz. Plot the filtered data. Note there is a “discontinuity” in the data at around $t = 370$s which is rich in high frequencies that gets accentuated by the highpass filter (ignore this, but indicate it on your plot). Can you see the aftershock? Indicate on your plot where you think the aftershock arrives. </li>\n",
    "</ol>\n",
    "</html> "
   ]
  },
  {
   "cell_type": "code",
   "execution_count": null,
   "id": "5c592fe8",
   "metadata": {},
   "outputs": [],
   "source": [
    "# QUESTION 2 F\n",
    "n = 2\n",
    "fc = 2\n",
    "wn = fc/(fs/2)\n",
    "btype = 'high'\n",
    "b, a = sp.butter(n, wn, btype)\n",
    "\n",
    "hfiltNovData = sp.filtfilt(b, a, novData)\n",
    "\n",
    "plt.plot(t, hfiltNovData, alpha=0.3)\n",
    "plt.scatter(t[18430], hfiltNovData[18430], label='\\\"discontinuity\\\"')\n",
    "plt.scatter(t[28895], hfiltNovData[28895], label='aftershock arrival')\n",
    "plt.title(\"Highpass Filtered Seismogram\")\n",
    "plt.xlabel(\"Time (s)\")\n",
    "plt.legend()\n",
    "plt.tight_layout()\n",
    "plt.show()"
   ]
  },
  {
   "cell_type": "markdown",
   "id": "39d7ad77",
   "metadata": {},
   "source": [
    "<html>\n",
    "<ol start=\"7\", style = \"list-style-type:lower-alpha;\">\n",
    "    <li>If this is indeed an aftershock it will have the same $S − P$ time as the main shock. Measure the $S −P$ times by using the code from Lab #7 to find data points from a graph, and zoom in to improve your accuracy. If the average <i>P</i>-wave velocity is 8 km/s and the <i>S</i>-wave velocity is 4.6 km/s, estimate the distance to the earthquakes. Show the work you did to figure out the distance.</li>\n",
    "</ol>\n",
    "</html>"
   ]
  },
  {
   "cell_type": "code",
   "execution_count": null,
   "id": "f28dc9a9",
   "metadata": {},
   "outputs": [],
   "source": [
    "# QUESTION 2 G\n",
    "plt.plot(t, hfiltNovData, alpha = 0.3)\n",
    "plt.scatter(t[4800], hfiltNovData[4800], label='P arrival')\n",
    "plt.scatter(t[11255], hfiltNovData[11255], label='S arrival')\n",
    "plt.scatter(t[28895], hfiltNovData[28895], label='aftershock P arrival')\n",
    "plt.scatter(t[35388], hfiltNovData[35388], label='aftershock S arrival')\n",
    "plt.xlabel(\"Time (s)\")\n",
    "plt.title(\"Highpass Filtered Nov Data with P and S Arrivals Indicated\")\n",
    "plt.legend()\n",
    "plt.tight_layout()\n",
    "plt.show()\n",
    "\n",
    "deltaT1 = t[11255]-t[4800]\n",
    "deltaT2 = t[35388]-t[28895]"
   ]
  },
  {
   "cell_type": "markdown",
   "id": "c87fded9",
   "metadata": {},
   "source": [
    "<html>\n",
    "<ol start=\"8\", style = \"list-style-type:lower-alpha;\">\n",
    "    <li>Now let’s examine the first (<i>P</i>-wave) on the original broadband trace by zooming in with the magnification tool. Filter the trace with the bandpass filter at between cut-off frequencies of 0.8 and 1.5 Hz and an order $N = 2$. What is your estimate of the onset time of the <i>P</i>-wave? Plot the filtered and zoomed in trace.</li>\n",
    "</ol>\n",
    "</html>"
   ]
  },
  {
   "cell_type": "code",
   "execution_count": null,
   "id": "11864869",
   "metadata": {},
   "outputs": [],
   "source": [
    "# QUESTION 2 H\n",
    "n = 2\n",
    "fc = [0.8, 1.5]\n",
    "wn = [(fc[0]/(fs/2)), (fc[1]/(fs/2))]\n",
    "btype = 'bandpass'\n",
    "b, a = sp.butter(n, wn, btype)\n",
    "\n",
    "bpfiltNovData = sp.filtfilt(b, a, novData)\n",
    "\n",
    "plt.plot(t, bpfiltNovData, alpha = 0.3)\n",
    "plt.scatter(t[5303], bpfiltNovData[5303], s=10, c='magenta', label='P arrival')\n",
    "plt.xlim(75, 150)\n",
    "plt.ylim(-1000, 1000)\n",
    "plt.xlabel(\"Time (s)\")\n",
    "plt.title(\"Bandpass Filtered Seismogram\")\n",
    "plt.legend()\n",
    "plt.tight_layout()\n",
    "plt.show()"
   ]
  },
  {
   "cell_type": "markdown",
   "id": "1718abf9",
   "metadata": {},
   "source": [
    "<html>\n",
    "<ol start=\"9\", style = \"list-style-type:lower-alpha;\">\n",
    "    <li>Now highpass filter the original broadband data using a cutoff frequency of 2.0 Hz and estimate the onset time now. Again, provide your zoomed in plot that you estimated the arrival time from. You should find a big difference of around 10 s. This is an example of dispersion caused by a wave travelling through a thin, fast layer (in this case the subducted Pacific crust). The 1 Hz arrival (seen on the bandpass trace) travels at more or less normal velocity. Think about whether you should have used zero phase or minimum phase filters for any interpretation (i.e., provide your comments on whether you feel you should have used zero or minimum phase filters). </li>\n",
    "</ol>\n",
    "</html>  \n",
    "\n",
    "<html>\n",
    "<p style=\"margin-left:25px\">\n",
    "For all plots or groups of plots, please label the <code>x-axis</code> to indicate frequency or time (and include the units). Make sure that your plots are titled so that each figure can be easily distinguished. Visit the <a href=\"https://matplotlib.org/stable/api/pyplot_summary.html\">matplotlib API</a> to find more information about <code>plt.title</code>, <code>plt.xlabel</code> and other useful functions. Please group the different plots as outlined above to save space. Make sure that you zoom into the interesting areas for your time domain plots. It is not important to show the full 1024 second time series, but just the important or relevant parts to the particular question. Use the <code>plt.xlim(min, max)</code> command to focus the interesting range.\n",
    "</p>\n",
    "</html>"
   ]
  },
  {
   "cell_type": "code",
   "execution_count": null,
   "id": "67a074ff",
   "metadata": {},
   "outputs": [],
   "source": [
    "# QUESTION 2 I\n",
    "n = 2\n",
    "fc = 2\n",
    "wn = fc/(fs/2)\n",
    "btype = 'high'\n",
    "b, a = sp.butter(n, wn, btype)\n",
    "\n",
    "hfiltNovData = sp.filtfilt(b, a, novData)\n",
    "\n",
    "plt.plot(t, hfiltNovData, alpha = 0.3)\n",
    "plt.scatter(t[4842], hfiltNovData[4842], s=10, c='magenta', label='P arrival')\n",
    "plt.xlim(80, 120)\n",
    "plt.ylim(-1000, 1000)\n",
    "plt.xlabel(\"Time (s)\")\n",
    "plt.title(\"Highpass Filtered Seismogram\")\n",
    "plt.legend()\n",
    "plt.tight_layout()\n",
    "plt.show()\n",
    "\n",
    "# zero and minimum phase filtered data for explanation\n",
    "n = 2\n",
    "fc = 2\n",
    "wn = fc/(fs/2)\n",
    "btype = 'low'\n",
    "b, a = sp.butter(n, wn, btype)\n",
    "\n",
    "hfiltNovData = sp.filtfilt(b, a, novData)\n",
    "\n",
    "plt.plot(t, hfiltNovData, alpha = 0.3)\n",
    "plt.xlabel(\"Time (s)\")\n",
    "plt.title(\"Zero Phase Filtered Seismogram\")\n",
    "plt.xlim(40, 250)\n",
    "plt.ylim(-3000, 5000)\n",
    "plt.tight_layout()\n",
    "plt.show()\n",
    "\n",
    "n = 2\n",
    "fc = 2\n",
    "wn = fc/(fs/2)\n",
    "btype = 'low'\n",
    "b, a = sp.butter(n, wn, btype)\n",
    "\n",
    "hfiltNovData = sp.lfilter(b, a, novData)\n",
    "\n",
    "plt.plot(t, hfiltNovData, alpha = 0.3)\n",
    "plt.xlabel(\"Time (s)\")\n",
    "plt.title(\"Minimum Phase Filtered Seismogram\")\n",
    "plt.xlim(50, 250)\n",
    "plt.ylim(-3000, 5000)\n",
    "plt.tight_layout()\n",
    "plt.show()"
   ]
  }
 ],
 "metadata": {
  "kernelspec": {
   "display_name": "Python 3",
   "language": "python",
   "name": "python3"
  },
  "language_info": {
   "codemirror_mode": {
    "name": "ipython",
    "version": 3
   },
   "file_extension": ".py",
   "mimetype": "text/x-python",
   "name": "python",
   "nbconvert_exporter": "python",
   "pygments_lexer": "ipython3",
   "version": "3.9.1"
  }
 },
 "nbformat": 4,
 "nbformat_minor": 5
}
