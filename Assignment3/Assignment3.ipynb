{
 "cells": [
  {
   "cell_type": "markdown",
   "id": "16db3536",
   "metadata": {},
   "source": [
    "Notes:\n",
    "* edit paragraph based on how assignments are being turned in\n",
    "* show commutativity of convolution without overplotting"
   ]
  },
  {
   "cell_type": "markdown",
   "id": "817f0c6c",
   "metadata": {},
   "source": [
    "<center> <h2>The University of British Columbia</h2> </center>\n",
    "<center> <h2>Earth and Ocean Sciences 354</h2> </center>\n",
    "<center> <h3>Geophysical Time Series Analysis</h3> </center>\n",
    "<center> <h3>Problem Set # 3</h3> </center>"
   ]
  },
  {
   "cell_type": "markdown",
   "id": "8a989d80",
   "metadata": {},
   "source": [
    "*Due: September 28, 2020*"
   ]
  },
  {
   "cell_type": "markdown",
   "id": "f835f51a",
   "metadata": {},
   "source": [
    "#### Learning Goals:\n",
    "* Perform convolution; understand convolution properties\n",
    "* Calculate Fourier coefficients\n",
    "---"
   ]
  },
  {
   "cell_type": "markdown",
   "id": "90642f36",
   "metadata": {},
   "source": [
    "1. Write a Python function that will allow you to convolve two signals *a*, *b* using formula (2.7) in the notes, that is\n",
    "$$ c_p = \\sum_{k=0}^{p}a_{k}b_{p-k} $$\n",
    "Your function should have the following form:\n",
    "```python\n",
    "def convolve(a, b):\n",
    "#\n",
    "# Put comments here.\n",
    "#\n",
    "        N = len(a)\n",
    "        M = len(b)\n",
    "        c = np.zeros(N+M-1)\n",
    "    \n",
    "        function body (for loops)\n",
    "    \n",
    "        return c\n",
    "```"
   ]
  },
  {
   "cell_type": "markdown",
   "id": "e8313a98",
   "metadata": {},
   "source": [
    "If you need help with defining functions or making for loops, you can access tutorials [here](https://docs.python.org/3.9/tutorial/index.html). You can also type `help(functionName)` in Python to get some basic information on a function."
   ]
  },
  {
   "cell_type": "markdown",
   "id": "e975d204",
   "metadata": {},
   "source": [
    "Note that Python indices begin with 0 and that you are assuming that the functions *a* and *b* are zero outside the domain of definition. Once you have written your function you can try it out by convolving each of the functions from the previous Lab (#2) with the time series **b** defined as follows (i.e. copy this text to generate your own spike train **b**:\n",
    "```python\n",
    "b = [0]*2048\n",
    "ib = [50, 150, 250, 1250]\n",
    "nb = [-1, -2, 0.5, -1]\n",
    "for i in range(4): ###fix\n",
    "    b[ib[i]] = nb[i]\n",
    "```\n",
    "\n",
    "Please provide a plot showing what the spike train **b** looks like. For each of the functions **a** outlined below (from Lab #2), convolve with **b** and provide a plot illustrating the solution. Comment on the character of the results. How do each **a** and **b** appear and affect the resulting convolution **c**. Also demonstrate the commutativity property of the convolution, $$a * b = b * a$$\n",
    "This could be demonstrated either by providing a new series of plots, or you can overplot $b * a$ over top of the $a * b$ curves and plot with a different `marker`, such as `o` or `x`. For example:\n",
    "```python\n",
    "# Compute the two convolutions\n",
    "c1 = convolve(a, b)\n",
    "c2 = convolve(b, a)\n",
    "\n",
    "# Plot\n",
    "plt.plot(c1)\n",
    "plt.plot(c2, marker='o')\n",
    "plt.show()\n",
    "```"
   ]
  },
  {
   "cell_type": "markdown",
   "id": "c3782b91",
   "metadata": {},
   "source": [
    "Please provide a copy of the .ipynb file you created in order to complete the question. Make sure your code is commented and organized. Also provide a copy of your plot output.  \n",
    "<html>\n",
    "<ol start=\"1\", style = \"list-style-type:lower-alpha;\">\n",
    "    <li><code>a = np.random.rand(len(t))</code></li>\n",
    "    <li><code>a = np.exp(-np.maximum(np.abs(t),500)/100)*50</code></li>\n",
    "    <li><code>a = 10*np.exp(-((t-500)/50)**2)</code></li>\n",
    "    <li><code>a = np.exp(-np.abs(t-500)/100)*np.cos(2*np.pi*t/100)</code></li>\n",
    "    <li><code>a = np.exp(-np.abs(t)/100)*np.sqrt(np.sin(2*np.pi*t/40)+1)</code></li>\n",
    "</ol>\n",
    "</html> "
   ]
  },
  {
   "cell_type": "code",
   "execution_count": 1,
   "id": "f3631933",
   "metadata": {},
   "outputs": [
    {
     "data": {
      "image/png": "[encoded data removed]",
      "text/plain": [
       "<Figure size 432x288 with 6 Axes>"
      ]
     },
     "metadata": {
      "needs_background": "light"
     },
     "output_type": "display_data"
    }
   ],
   "source": [
    "import matplotlib.pyplot as plt\n",
    "import numpy as np\n",
    "\n",
    "\n",
    "#Convolution function\n",
    "def convolve(a, b):\n",
    "    N = len(a)\n",
    "    M = len(b)\n",
    "\n",
    "    c = np.zeros(N+M-1)\n",
    "\n",
    "    for i in range(N): #looping through every index in a\n",
    "        for j in range(M): #looping through every index in b\n",
    "            c[i+j] += a[i]*b[j] #adding the product of a[i] and b[j] to the corresponding element of c\n",
    "\n",
    "    return c\n",
    "\n",
    "\n",
    "#Spike Train b\n",
    "spikeTrain = [0]*2048\n",
    "ib = [50, 150, 250, 1250]\n",
    "nb = [-1, -2, 0.5, -1]\n",
    "\n",
    "for i in range(4):\n",
    "    spikeTrain[ib[i]] = nb[i]\n",
    "\n",
    "\n",
    "#Functions from Lab #2 convolved with the spike train\n",
    "t = np.arange(0, 1024, 1)\n",
    "\n",
    "a = np.random.random(1024)\n",
    "aConv = convolve(a, spikeTrain)\n",
    "aConvRev = convolve(spikeTrain, a) #convolved in the opposite direction to demonstrate commutativity\n",
    "\n",
    "def b(t):\n",
    "    return np.exp(-np.maximum(abs(t),500)/100)*50\n",
    "bConv = convolve(b(t), spikeTrain)\n",
    "bConvRev = convolve(spikeTrain, b(t))\n",
    "\n",
    "def c(t):\n",
    "    return 10*np.exp(-((t-500)/50)**2)\n",
    "cConv = convolve(c(t), spikeTrain)\n",
    "cConvRev = convolve(spikeTrain, c(t))\n",
    "\n",
    "def d(t):\n",
    "    return np.exp(-abs(t-500)/100)*np.cos(2*np.pi*t/100)\n",
    "dConv = convolve(d(t), spikeTrain)\n",
    "dConvRev = convolve(spikeTrain, d(t))\n",
    "\n",
    "def e(t):\n",
    "    return np.exp(-abs(t)/100)*np.sqrt(np.sin(2*np.pi*t/40)+1)\n",
    "eConv = convolve(e(t), spikeTrain)\n",
    "eConvRev = convolve(spikeTrain, e(t))\n",
    "\n",
    "\n",
    "#Plots of the functions from Lab #2 convolved with the spike train (in both directions to show commutativity)\n",
    "\n",
    "fig, plots = plt.subplots(2, 3)\n",
    "\n",
    "plots[0, 0].plot(spikeTrain)\n",
    "plots[0, 0].set_title('spike train b')\n",
    "plots[0, 1].plot(aConv)\n",
    "plots[0, 1].plot(aConvRev)\n",
    "plots[0, 1].set_title('a')\n",
    "plots[0, 2].plot(bConv)\n",
    "plots[0, 2].plot(bConvRev)\n",
    "plots[0, 2].set_title('b')\n",
    "plots[1, 0].plot(cConv)\n",
    "plots[1, 0].plot(cConvRev)\n",
    "plots[1, 0].set_title('c')\n",
    "plots[1, 1].plot(dConv)\n",
    "plots[1, 1].plot(dConvRev)\n",
    "plots[1, 1].set_title('d')\n",
    "plots[1, 2].plot(eConv)\n",
    "plots[1, 2].plot(eConvRev)\n",
    "plots[1, 2].set_title('e')\n",
    "\n",
    "plt.show()\n",
    "\n",
    "#Looking at the plots, there are clearly elements from both the spike train and the original plot.\n",
    "#In general, the convoluted plots look like the plots from Lab #2, but they are flipped over the\n",
    "#x-axis at the indeces where the spike train is negative, and the plots are scaled by the values\n",
    "#in the spike train as well."
   ]
  },
  {
   "cell_type": "markdown",
   "id": "1d221133",
   "metadata": {},
   "source": [
    "2. Consider the following periodic, box-car function\n",
    "$$ a(t) =   \\left\\{\n",
    "\\begin{array}{ll}\n",
    "      1 & 0 < t < \\frac{1}{4} \\\\\n",
    "      0 & \\frac{1}{4} < t < \\frac{3}{4} \\\\\n",
    "      1 & \\frac{3}{4} < t < 1 \\\\\n",
    "\\end{array} \n",
    "\\right.  $$\n",
    "<html>\n",
    "<ol start=\"1\", style = \"list-style-type:lower-alpha;\">\n",
    "    <li>Determine the Fourier coefficients $a_0, c_n, s_n$ using the formulae provided in class. Note that the period $T=1$. Comment on your results.</li>\n",
    "    <li>Using Python, program your expressions in a) and plot the truncated series using ${n=1,2,4,16,128,2048}$ terms. Comment on your results again and include a copy of your program and output.</li>\n",
    "</ol>\n",
    "</html> "
   ]
  },
  {
   "cell_type": "code",
   "execution_count": 4,
   "id": "87dc61eb",
   "metadata": {},
   "outputs": [
    {
     "data": {
      "image/png": "[encoded data removed]",
      "text/plain": [
       "<Figure size 432x288 with 6 Axes>"
      ]
     },
     "metadata": {
      "needs_background": "light"
     },
     "output_type": "display_data"
    }
   ],
   "source": [
    "#Functions for each of the Fourier coefficients\n",
    "def a0():\n",
    "    return 1 #This is twice the average value of a(t)\n",
    "\n",
    "def cn(n):\n",
    "    return (1/(n*np.pi))*((np.sin(n*np.pi/2))-(np.sin(3*n*np.pi/2)))\n",
    "\n",
    "def sn(n): #The value of this coefficient is 0 for even functions (like ours). cn is 0 for odd functions\n",
    "    return 0#(1/(n*np.pi))*(-np.cos(n*np.pi/2)+1-np.cos(2*np.pi*n)+np.cos(3*n*np.pi/2))\n",
    "\n",
    "#Function to get the Fourier series\n",
    "def a(n, t):\n",
    "    result = 0\n",
    "    for i in range(n): #Performing a sum from 1 to n\n",
    "        result += (cn(i+1)*np.cos((i+1)*2*np.pi*t) + sn(i+1)*np.sin((i+1)*2*np.pi*t))\n",
    "    return a0()/2 + result\n",
    "\n",
    "\n",
    "\n",
    "#Plotting the truncated series with the different n values\n",
    "t2 = np.arange(-1, 1, 0.01)\n",
    "\n",
    "fig2, plots = plt.subplots(2, 3)\n",
    "\n",
    "plots[0, 0].plot(t2, a(1, t2))\n",
    "plots[0, 0].set_title('n=1')\n",
    "plots[0, 1].plot(t2, a(2, t2))\n",
    "plots[0, 1].set_title('n=1:2')\n",
    "plots[0, 2].plot(t2, a(4, t2))\n",
    "plots[0, 2].set_title('n=1:4')\n",
    "plots[1, 0].plot(t2, a(16, t2))\n",
    "plots[1, 0].set_title('n=1:16')\n",
    "plots[1, 1].plot(t2, a(128, t2))\n",
    "plots[1, 1].set_title('n=1:128')\n",
    "plots[1, 2].plot(t2, a(2048, t2))\n",
    "plots[1, 2].set_title('n=1:2048')\n",
    "\n",
    "plt.show()\n",
    "\n",
    "#The larger n is, the more terms that are summed by a(n, t), and the closer the plot looks to\n",
    "#the original function, a(t)."
   ]
  },
  {
   "cell_type": "code",
   "execution_count": null,
   "id": "ef0c02fd",
   "metadata": {},
   "outputs": [],
   "source": []
  }
 ],
 "metadata": {
  "kernelspec": {
   "display_name": "Python 3",
   "language": "python",
   "name": "python3"
  },
  "language_info": {
   "codemirror_mode": {
    "name": "ipython",
    "version": 3
   },
   "file_extension": ".py",
   "mimetype": "text/x-python",
   "name": "python",
   "nbconvert_exporter": "python",
   "pygments_lexer": "ipython3",
   "version": "3.9.1"
  }
 },
 "nbformat": 4,
 "nbformat_minor": 5
}
