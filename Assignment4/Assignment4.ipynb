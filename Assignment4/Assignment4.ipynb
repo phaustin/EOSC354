{
 "cells": [
  {
   "cell_type": "markdown",
   "id": "65631dc5",
   "metadata": {},
   "source": [
    "2. Obtain the convolution of the two time sequences $$a_k = (6,-5,1,0,-1,3,-2)$$ and $$b_k = \\bigg(\\frac{1}{2},\\frac{1}{2}\\bigg)$$ Verify your results using your Python `convolve` function from the previous lab. Why is this operation called a *moving average*? (Problem 2.2 on page 36 of TSAITG)."
   ]
  },
  {
   "cell_type": "markdown",
   "id": "92454929",
   "metadata": {},
   "source": [
    "3. Show that the deconvolution of the time sequence $$c = (1,5,14,27,34,32,17,14)$$ with $$a = (1,2,3,1,2)$$ is $$b = (1,3,5,7)$$ Investinate the elements of *b* beyond the given sequence (i.e. compute what $b_4$, $b_5$, and $b_6$ would equal). Do this by hand and then check your solution by programming equation (2.14) $$b_p=\\frac{c_p-\\sum_{k=1}^{p}a_kb_{p-k}}{a_0}$$ into a Python function just like your `convolve` function from last week. (Based on Problem 2.3 on page 36 of TSAITG). For example, the function `deconv` would look like:\n",
    "```python\n",
    "def deconv(c, a):\n",
    "#\n",
    "# Comments\n",
    "#\n",
    "    \n",
    "        P = len(c) # number of points in c\n",
    "        N = len(a) # number of points in a\n",
    "        M = P+1-N # number of points that should be in b\n",
    "    \n",
    "        # create b\n",
    "        b = np.zeros(M)\n",
    "    \n",
    "        # loops and variable definitions required to compute b\n",
    "    \n",
    "        return b\n",
    "```"
   ]
  },
  {
   "cell_type": "code",
   "execution_count": null,
   "id": "021f236d",
   "metadata": {},
   "outputs": [],
   "source": [
    "import matplotlib.pyplot as plt\n",
    "import numpy as np\n",
    "\n",
    "###QUESTION 3\n",
    "\n",
    "def deconv(c, a):\n",
    "    P = len(c)\n",
    "    N = len(a)\n",
    "    M = P+1-N\n",
    "\n",
    "    b = np.zeros(M)\n",
    "\n",
    "    for i in range(M):\n",
    "        terms = 0\n",
    "        for j in range(1, i+1):\n",
    "            terms += a[j]*b[i-j]\n",
    "        b[i] = (c[i]-terms)/a[0]\n",
    "\n",
    "    return b\n",
    "\n",
    "\n",
    "a = np.array([1, 2, 3, 1, 2])\n",
    "c = np.array([1, 5, 14, 27, 34, 32, 17, 14])\n",
    "\n",
    "print(deconv(c, a))"
   ]
  },
  {
   "cell_type": "markdown",
   "id": "c24b13bc",
   "metadata": {},
   "source": [
    "4. Show that the discrete Fourier transform of the sequence $$(0,1,-1,0)$$ is $$(A_0,A_1,A_2,A_3)=[0,\\frac{1}{4}(1-i),-\\frac{1}{2},\\frac{1}{4}(1+i)]$$ using the discrete Fourier transform equation: \n",
    "$$\n",
    "\\begin{eqnarray}\n",
    "A(\\omega) &=& \\frac{1}{N}\\sum_{k=0}^{N-1}a_ke^{-i\\omega_nk{\\Delta}t} \\\\\n",
    "&\\textrm{where }& \\omega_n = \\frac{2{\\pi}n}{T} = \\frac{2{\\pi}n}{N{\\Delta}t} \\\\\n",
    "A_n = A(\\omega_n) &=& \\frac{1}{N}\\sum_{k=0}^{N-1}a_ke^{-\\frac{2{\\pi}ink{\\Delta}t}{N{\\Delta}t}} \\\\\n",
    "&=& \\frac{1}{N}\\sum_{k=0}^{N-1}a_ke^{-\\frac{2{\\pi}ink}{N}}\n",
    "\\end{eqnarray}\n",
    "$$\n",
    "a) Verify the general relation $A_{N-n} = A_n^{*}$.  \n",
    "b) Plot the amplitude and phase spectra.\n",
    "(Problem 2.4 on page 36 of TSAITG)"
   ]
  },
  {
   "cell_type": "code",
   "execution_count": null,
   "id": "aabe542e",
   "metadata": {},
   "outputs": [],
   "source": [
    "import matplotlib.pyplot as plt\n",
    "import numpy as np\n",
    "\n",
    "###QUESTION 4\n",
    "\n",
    "r = [0, 1, -1, 0]\n",
    "R = np.fft.fft(r)\n",
    "\n",
    "fig, plots = plt.subplots(2)\n",
    "\n",
    "plots[0].plot(np.abs(R))\n",
    "plots[0].set_title('Amp Spectrum')\n",
    "\n",
    "plots[1].plot(np.arctan2(R.imag, R.real))\n",
    "plots[1].set_title('Phase Spectrum')\n",
    "\n",
    "plt.show()"
   ]
  },
  {
   "cell_type": "markdown",
   "id": "2e7ba67e",
   "metadata": {},
   "source": [
    "6. Find the DFT of the sequence $(1,-1)$ by hand. Compare and comment on the effect on the amplitude spectrum by adding zeroes to a time sequence. i.e. Plot the amplitude spectrum for each of $a = (1,-1), (1,-1,0), (1,-1,0,0), (1,-1,0,0,0),$ and $(1,-1,0,0,0,0)$ in Python. (Based on Problem 2.9 on page 37 of TSAITG). For example:\n",
    "```python\n",
    "import matplotlib.pyplot as plt\n",
    "import numpy as np\n",
    "```\n",
    "```python\n",
    "a = [1, -1]  \n",
    "A = np.fft.fft(a)  \n",
    "plt.subplot(2,3,1)  \n",
    "plt.plot(abs(A))  \n",
    "plt.title(\"a = [1,-1]\")  \n",
    "```\n",
    "```python\n",
    "a = [1, -1, 0]  \n",
    "A = np.fft.fft(a)  \n",
    "plt.subplot(2,3,2)  \n",
    "plt.plot(abs(A))  \n",
    "plt.title(\"a = [1,-1,0]\")  \n",
    "```\n",
    "```python\n",
    "a = etc...\n",
    "```"
   ]
  },
  {
   "cell_type": "code",
   "execution_count": null,
   "id": "30761f59",
   "metadata": {},
   "outputs": [],
   "source": [
    "import matplotlib.pyplot as plt\n",
    "import numpy as np\n",
    "\n",
    "### QUESTION 6\n",
    "\n",
    "fig2, plots = plt.subplots(2, 3)\n",
    "\n",
    "counter = 0\n",
    "for i in range(2):\n",
    "    for j in range(3):\n",
    "        q = [1, -1] + counter*[0]\n",
    "        Q = np.fft.fft(q)\n",
    "        plots[i, j].plot(np.abs(Q))\n",
    "        plots[i, j].set_title(str(counter+2) + ' terms')\n",
    "        counter += 1\n",
    "\n",
    "\n",
    "plots[1, 2].clear()\n",
    "q = [1, -1] + 10000*[0]\n",
    "Q = np.fft.fft(q)\n",
    "plots[1, 2].plot(np.abs(Q))\n",
    "plots[1, 2].set_title('10002 terms')\n",
    "\n",
    "plt.show()\n"
   ]
  },
  {
   "cell_type": "code",
   "execution_count": null,
   "id": "f2bae881",
   "metadata": {},
   "outputs": [],
   "source": []
  }
 ],
 "metadata": {
  "kernelspec": {
   "display_name": "Python 3",
   "language": "python",
   "name": "python3"
  },
  "language_info": {
   "codemirror_mode": {
    "name": "ipython",
    "version": 3
   },
   "file_extension": ".py",
   "mimetype": "text/x-python",
   "name": "python",
   "nbconvert_exporter": "python",
   "pygments_lexer": "ipython3",
   "version": "3.9.1"
  }
 },
 "nbformat": 4,
 "nbformat_minor": 5
}
